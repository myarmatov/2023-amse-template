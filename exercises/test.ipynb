{
 "cells": [
  {
   "cell_type": "code",
   "execution_count": 142,
   "metadata": {},
   "outputs": [],
   "source": [
    "import pandas as pd\n",
    "\n",
    "url = \"https://download-data.deutschebahn.com/static/datasets/haltestellen/D_Bahnhof_2020_alle.CSV\"\n",
    "df = pd.read_csv(url, sep=';')\n",
    "\n",
    "#dropping Status column\n",
    "df = df.drop([\"Status\"], axis = 1)\n",
    "\n",
    "#dropping none values\n",
    "df.dropna(inplace=True)\n",
    "\n",
    "#dropping rows with empty values of Betreiber_Nr\n",
    "df = df[df[\"Betreiber_Nr\"] >= 0 ]\n",
    "\n",
    "#dropping rows where the value in the \"Verkehr\" column is not 'FV', 'RV', or 'nur DPN'\n",
    "df = df[df['Verkehr'].isin(['FV', 'RV', 'nur DPN'])]\n",
    "\n",
    "#dropping rows where Lanege and Breite values are not between -90 and 90\n",
    "df['Laenge'] = df['Laenge'].str.replace(',', '.')\n",
    "df['Laenge'] = df['Laenge'].astype(float)\n",
    "df = df[(df[\"Laenge\"] <= 90) & (df[\"Laenge\"] >= -90)]\n",
    "\n",
    "df['Breite'] = df['Breite'].str.replace(',', '.')\n",
    "df['Breite'] = df['Breite'].astype(float)\n",
    "df = df[(df[\"Breite\"] <= 90) & (df[\"Breite\"] >= -90)]\n",
    "\n",
    "#dropping rows where IFOPT has more than two letter in first pattern\n",
    "df = df[df['IFOPT'].str[2] == ':']"
   ]
  },
  {
   "cell_type": "code",
   "execution_count": 134,
   "metadata": {},
   "outputs": [],
   "source": [
    "from sqlalchemy import create_engine, BIGINT, TEXT, FLOAT\n",
    "\n",
    "# Create a SQLAlchemy engine to connect to the SQLite database\n",
    "engine = create_engine('sqlite:///trainstops.sqlite')\n",
    "\n",
    "# Define the desired column types for the SQLite database\n",
    "dtype = {\n",
    "    'EVA_NR': BIGINT,\n",
    "    'DS100': TEXT,\n",
    "    'IFOPT': TEXT,\n",
    "    'NAME': TEXT,\n",
    "    'Verkehr': TEXT,\n",
    "    'Laenge': FLOAT,\n",
    "    'Breite': FLOAT,\n",
    "    'Betreiber_Name': TEXT,\n",
    "    'Betreiber_Nr': FLOAT\n",
    "}\n",
    "\n",
    "# Save the DataFrame to the SQLite database table named \"trainstops\"\n",
    "df.to_sql('trainstops', engine, if_exists='replace', index=False, dtype=dtype)\n",
    "\n",
    "# Close the SQLAlchemy engine\n",
    "engine.dispose()"
   ]
  },
  {
   "cell_type": "code",
   "execution_count": 2,
   "metadata": {},
   "outputs": [
    {
     "name": "stdout",
     "output_type": "stream",
     "text": [
      "EVA_NR <class 'numpy.int64'>\n",
      "DS100 <class 'str'>\n",
      "IFOPT <class 'str'>\n",
      "NAME <class 'str'>\n",
      "Verkehr <class 'str'>\n",
      "Laenge <class 'numpy.float64'>\n",
      "Breite <class 'numpy.float64'>\n",
      "Betreiber_Name <class 'str'>\n",
      "Betreiber_Nr <class 'numpy.float64'>\n"
     ]
    }
   ],
   "source": [
    "import sqlite3\n",
    "import pandas as pd\n",
    "\n",
    "# Connect to the SQLite database file\n",
    "conn = sqlite3.connect('trainstops.sqlite')\n",
    "\n",
    "# Fetch data from the database using a SQL query and store it in a pandas DataFrame\n",
    "query = 'SELECT * FROM trainstops'\n",
    "df2 = pd.read_sql_query(query, conn)\n",
    "\n",
    "for i in df2.columns:\n",
    "    print(i, type(df2[i][0]))\n",
    "\n",
    "conn.close()"
   ]
  },
  {
   "cell_type": "code",
   "execution_count": null,
   "metadata": {},
   "outputs": [],
   "source": []
  }
 ],
 "metadata": {
  "kernelspec": {
   "display_name": "myEnv",
   "language": "python",
   "name": "python3"
  },
  "language_info": {
   "codemirror_mode": {
    "name": "ipython",
    "version": 3
   },
   "file_extension": ".py",
   "mimetype": "text/x-python",
   "name": "python",
   "nbconvert_exporter": "python",
   "pygments_lexer": "ipython3",
   "version": "3.10.5"
  },
  "orig_nbformat": 4
 },
 "nbformat": 4,
 "nbformat_minor": 2
}
