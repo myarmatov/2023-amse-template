{
 "cells": [
  {
   "cell_type": "markdown",
   "id": "8ed15df6-7c5b-40f5-8035-9bfb9370f0f6",
   "metadata": {
    "tags": []
   },
   "source": [
    "# Investigating Bicycle Usage Patterns\n",
    "\n",
    "*AMSE 2023 course project by: Muhammetmyrat Yarmatov*\n",
    "\n",
    "The project \"Investigating Bicycle Usage Patterns\" aimed to gain insights into the factors influencing bicycle usage and understand the temporal patterns associated with it. The analysis focused on the impact of weather conditions and temporal variations on bicycle counts.\n",
    "\n",
    "The project followed a systematic approach, starting with an Extract, Transform, Load (ETL) pipeline to acquire and preprocess the data. Two datasets were integrated and preprocessed, which included information such as date, time, weather conditions, and bicycle counts.\n",
    "\n",
    "The analysis began with an exploration of the impact of weather conditions on bicycle usage. The project investigated the effects of different weather types, such as sunny, rainy, and cloudy, on bicycle counts. Additionally, the project examined whether specific temperature ranges were associated with higher bicycle usage. The influence of rainfall on bicycle counts was also assessed.\n",
    "\n",
    "The second part of the analysis focused on temporal patterns in bicycle usage. The project explored seasonal and monthly variations in bicycle counts to identify any notable trends. Furthermore, the project examined how bicycle usage differed between weekdays and weekends, aiming to uncover variations in usage patterns during these time periods. The identification of distinct peak hours or periods of high bicycle usage on weekdays and weekends was another important aspect investigated.\n",
    "\n",
    "Throughout the project, data visualization techniques, statistical analysis, and exploratory data analysis were employed to analyze and interpret the findings. Visualizations such as line plots, bar plots, and heatmaps were used to illustrate the relationships and patterns observed in the data.\n",
    "\n",
    "The project's insights have the potential to inform various stakeholders, such as urban planners, policymakers, and bike-sharing program managers, in making data-driven decisions related to bicycle infrastructure, resource allocation, and marketing strategies.\n",
    "\n",
    "In conclusion, \"Investigating Bicycle Usage Patterns\" shed light on the impact of weather conditions and temporal variations on bicycle usage. The project provided valuable insights into the factors influencing bicycle counts, allowing for a deeper understanding of usage patterns and facilitating evidence-based decision-making."
   ]
  },
  {
   "cell_type": "markdown",
   "id": "2a248065-8ce0-4bb0-8baa-69dbe426a31a",
   "metadata": {},
   "source": [
    "## Install Dependencies"
   ]
  },
  {
   "cell_type": "code",
   "execution_count": null,
   "id": "63db3452",
   "metadata": {},
   "outputs": [],
   "source": [
    "%pip install pandas\n",
    "%pip install plotly\n",
    "%pip install 'SQLAlchemy==1.4.46'\n",
    "%pip install nbformat\n",
    "%pip install matplotlib\n",
    "%pip install seaborn\n",
    "%pip install requests"
   ]
  },
  {
   "cell_type": "markdown",
   "id": "131c2ffb-1cfb-4408-af26-38c6279df12d",
   "metadata": {
    "tags": []
   },
   "source": [
    "# Extract, Transform, and Load pipeline\n",
    "\n",
    "The ETL (Extract, Transform, Load) pipeline is responsible for extracting data from multiple sources, performing necessary transformations or modifications on the extracted data, and finally loading the transformed data into a target destination, such as a database. It ensures that the data is in a consistent and usable format for subsequent analysis and processing. The ETL process is executed for two datasets. The data is extracted from the respective URLs, transformed using the defined ETL pipeline, and loaded into separate SQLite databases. The resulting pandas DataFrames (df1 and df2) serve as the in-memory representation of the transformed data, enabling further analysis and processing."
   ]
  },
  {
   "cell_type": "code",
   "execution_count": 2,
   "id": "97e0ffa0-d638-40f0-9211-50a07177956a",
   "metadata": {},
   "outputs": [],
   "source": [
    "# Import required libraries and define urls for datasources\n",
    "\n",
    "import pandas as pd\n",
    "import io\n",
    "import requests\n",
    "from sqlalchemy import create_engine\n",
    "import matplotlib.pyplot as plt\n",
    "import seaborn as sns\n",
    "import warnings\n",
    "\n",
    "# Ignore the warning from pandas\n",
    "warnings.filterwarnings('ignore')\n",
    "\n",
    "url1 = \"https://offenedaten-konstanz.de/sites/default/files/Zaehlstelle_Herose_2019_stuendlich_Wetter.csv\"\n",
    "url2 = \"https://bicycle.vlba.uni-oldenburg.de/csv?region=Konstanz&table=zaehl&startDate=2019-01-01&endDate=2019-12-31&stations=Herosépark&columns=countTo&columns=countFrom&columns=classification\""
   ]
  },
  {
   "cell_type": "code",
   "execution_count": 3,
   "id": "de985991-86d5-42ae-a710-ca5c46bc1d14",
   "metadata": {},
   "outputs": [],
   "source": [
    "def extract(url, withRequest=False):\n",
    "    if withRequest == False:\n",
    "        #For Datasource 1\n",
    "        encoding = \"ISO-8859-1\"\n",
    "        df = pd.read_csv(url, encoding=encoding, sep=';')\n",
    "\n",
    "    else:\n",
    "        #For Datasource 2\n",
    "        encoding = \"utf-8\"\n",
    "        response = requests.get(url)\n",
    "        response.raise_for_status()\n",
    "        content = response.content.decode(encoding)\n",
    "        df = pd.read_csv(io.StringIO(content))\n",
    "\n",
    "    return df"
   ]
  },
  {
   "cell_type": "code",
   "execution_count": 4,
   "id": "d09db466-a7f3-4411-8df1-c05b5bee20de",
   "metadata": {},
   "outputs": [],
   "source": [
    "def transform(df):\n",
    "    # We already know the station's name and we got data from only that station in Konstanz\n",
    "    if 'station' in list(df.columns):\n",
    "        df = df.drop('station', axis=1)\n",
    "\n",
    "    return df"
   ]
  },
  {
   "cell_type": "code",
   "execution_count": 5,
   "id": "3ae435ec-3dc7-4263-b1ec-fd7c47a8bfda",
   "metadata": {},
   "outputs": [],
   "source": [
    "def load(df, name):\n",
    "\n",
    "    # Create a connection to the SQLite database using SQLAlchemy\n",
    "    database_uri = 'sqlite:///' + name + '.sqlite'\n",
    "    engine = create_engine(database_uri)\n",
    "\n",
    "    # Save the DataFrame to the SQL table\n",
    "    df.to_sql(name, engine, if_exists='replace', index=False)\n",
    "\n",
    "    # Close the database connection\n",
    "    engine.dispose()"
   ]
  },
  {
   "cell_type": "code",
   "execution_count": 6,
   "id": "3ceac530-8ed7-4302-98fd-5cec61a0ac8b",
   "metadata": {},
   "outputs": [],
   "source": [
    "def etl(url, withRequest=False, name=\"random\"):\n",
    "    df = extract(url, withRequest=withRequest)\n",
    "    df = transform(df)\n",
    "    load(df, name)\n",
    "    \n",
    "    return df"
   ]
  },
  {
   "cell_type": "code",
   "execution_count": 7,
   "id": "576c38b8-fc10-49d1-a5cd-a8e78add78e0",
   "metadata": {},
   "outputs": [],
   "source": [
    "# We load the datasets into sqlites, and we use these pandas dataframes for further use\n",
    "\n",
    "df1 = etl(url1, withRequest=False, name=\"bikeCountKonstanz_ds1\")\n",
    "df2 = etl(url2, withRequest=True, name=\"bikeCountKonstanz_ds2\")"
   ]
  },
  {
   "cell_type": "markdown",
   "id": "a64978f2-9bb9-4884-8c2a-38c6ac1f5e9a",
   "metadata": {
    "tags": []
   },
   "source": [
    "# Integrating and Pre-processing Datasets\n",
    "\n",
    "In the \"Integrating and Pre-processing datasets\" part, two datasets were selected for analysis. The first dataset (Dataframe 1) contained hourly bicycle count numbers along with additional features like temperature, perceived temperature, weather type, and rainfall. The second dataset (Dataframe 2) had fewer features but provided more frequent bicycle count data at a 15-minute interval. Recognizing that utilizing more features and higher frequency data can improve analysis and predictions, the datasets were compared, merged, and used together to gain better insights.\n",
    "\n",
    "To accomplish this, necessary data pre-processing steps were performed. These steps involved handling missing values, aligning the datasets for merging purposes (including upsampling one dataset to match the frequency of the other), and ensuring consistency in values, data types, and variable names. By successfully merging the two datasets, a comprehensive dataset was created that could be utilized for further analysis and exploration."
   ]
  },
  {
   "cell_type": "code",
   "execution_count": 8,
   "id": "f193b8ff-82a5-4094-abce-9d4226476f2e",
   "metadata": {},
   "outputs": [
    {
     "name": "stdout",
     "output_type": "stream",
     "text": [
      "There are NaN values in the df1 DataFrame.\n",
      "\n",
      "There are no NaN values in the df2 DataFrame.\n"
     ]
    }
   ],
   "source": [
    "# Check NaN values in the datasets, and handle them properly:\n",
    "\n",
    "df1_has_nan_values = df1.isna().any().any()\n",
    "df2_has_nan_values = df2.isna().any().any()\n",
    "\n",
    "if df1_has_nan_values:\n",
    "    print(\"There are NaN values in the df1 DataFrame.\")\n",
    "else:\n",
    "    print(\"There are no NaN values in the df1 DataFrame.\")\n",
    "    \n",
    "print()\n",
    "    \n",
    "if df2_has_nan_values:\n",
    "    print(\"There are NaN values in the df2 DataFrame.\")\n",
    "else:\n",
    "    print(\"There are no NaN values in the df2 DataFrame.\")"
   ]
  },
  {
   "cell_type": "code",
   "execution_count": 9,
   "id": "180218f3-c9bb-47e8-826b-c19b937e8168",
   "metadata": {},
   "outputs": [
    {
     "name": "stdout",
     "output_type": "stream",
     "text": [
      "NaN values found in column 'Fahrradbruecke' at rows: [7203]\n",
      "NaN values found in column 'Fahrradbruecke stadteinwaerts' at rows: [7203]\n",
      "NaN values found in column 'Fahrradbruecke stadtauswaerts' at rows: [7203]\n"
     ]
    }
   ],
   "source": [
    "# Find the locations of nan values in df1 DataFrame\n",
    "\n",
    "nan_locations = df1.isna()\n",
    "\n",
    "# Iterate over columns\n",
    "for column in nan_locations.columns:\n",
    "    # Get row indices with NaN values in the current column\n",
    "    rows_with_nan = nan_locations[column].index[nan_locations[column]].tolist()\n",
    "    if rows_with_nan:\n",
    "        print(f\"NaN values found in column '{column}' at rows: {rows_with_nan}\")"
   ]
  },
  {
   "cell_type": "code",
   "execution_count": 10,
   "id": "822e1238-4821-495a-baa0-dbacbb52edc5",
   "metadata": {},
   "outputs": [
    {
     "data": {
      "text/plain": [
       "Datum                                28/10/2019\n",
       "Uhrzeit                                   04:00\n",
       "Fahrradbruecke                              NaN\n",
       "Fahrradbruecke stadteinwaerts               NaN\n",
       "Fahrradbruecke stadtauswaerts               NaN\n",
       "Symbol Wetter                    Leichter Nebel\n",
       "Temperatur (°C)                              12\n",
       "Gefühlte Temperatur (°C)                     12\n",
       "Regen (mm)                                    0\n",
       "Name: 7203, dtype: object"
      ]
     },
     "execution_count": 10,
     "metadata": {},
     "output_type": "execute_result"
    }
   ],
   "source": [
    "df1.iloc[7203]"
   ]
  },
  {
   "cell_type": "code",
   "execution_count": 11,
   "id": "5d1ebbd1-16c0-4f28-a26b-5ab1d09b204b",
   "metadata": {},
   "outputs": [],
   "source": [
    "# The data suggests that no bicycles passed during that time, so:\n",
    "\n",
    "df1.at[7203, \"Fahrradbruecke\"] = 0\n",
    "df1.at[7203, \"Fahrradbruecke stadteinwaerts\"] = 0\n",
    "df1.at[7203, \"Fahrradbruecke stadtauswaerts\"] = 0"
   ]
  },
  {
   "cell_type": "code",
   "execution_count": 12,
   "id": "c7199942-e6c0-4142-8cec-4c5d9fc970c9",
   "metadata": {},
   "outputs": [
    {
     "name": "stdout",
     "output_type": "stream",
     "text": [
      "From df1:  25 36\n",
      "From df2:  25 36\n",
      "Numbers match!\n",
      "\n",
      "From df1:  49 51\n",
      "From df2:  49 51\n",
      "Numbers match!\n",
      "\n",
      "From df1:  73 70\n",
      "From df2:  73 70\n",
      "Numbers match!\n",
      "\n",
      "From df1:  59 39\n",
      "From df2:  59 39\n",
      "Numbers match!\n",
      "\n",
      ".\n",
      ".\n",
      ".\n",
      "\n",
      "Everything matches perfectly!\n"
     ]
    }
   ],
   "source": [
    "'''\n",
    "To merge the datasets, it is essential to ensure that the bicycle count \n",
    "detections align between the two datasets. Since one dataset records \n",
    "bicycle counts every hour, the bicycle counts (inwards and outwards) \n",
    "are summed up for each hour. These summed counts are then compared with \n",
    "the dataset that has a 15-minute frequency to verify if they match each \n",
    "other. This step ensures consistency and compatibility between the \n",
    "datasets before proceeding with the merging process.\n",
    "'''\n",
    "\n",
    "totalTo = 0\n",
    "totalFrom = 0\n",
    "isCorrect = True\n",
    "\n",
    "for i in range(len(df2) - 10): #len(df2)\n",
    "    if i%4 == 0:\n",
    "        if(i != 0):\n",
    "            numTo = int(df1[\"Fahrradbruecke stadteinwaerts\"][i//4 - 1])\n",
    "            numFrom = int(df1[\"Fahrradbruecke stadtauswaerts\"][i//4 - 1])\n",
    "            \n",
    "            if(numTo != totalTo or numFrom != totalFrom):\n",
    "                print(\"From df1: \", numTo, numFrom)\n",
    "                print(\"From df2: \", totalTo, totalFrom)\n",
    "                print(\"Incorrect: Numbers do not match!\")\n",
    "                isCorrect = False\n",
    "            elif i < 20:\n",
    "                print(\"From df1: \", numTo, numFrom)\n",
    "                print(\"From df2: \", totalTo, totalFrom)\n",
    "                print(\"Numbers match!\\n\")\n",
    "                        \n",
    "            totalTo = 0\n",
    "            totalFrom = 0\n",
    "        \n",
    "    totalTo = totalTo + df2[\"countTo\"][i]\n",
    "    totalFrom = totalFrom + df2[\"countFrom\"][i]\n",
    "    \n",
    "if isCorrect:\n",
    "    print('\\n'.join(['.' for _ in range(3)]))\n",
    "    print(\"\\nEverything matches perfectly!\")"
   ]
  },
  {
   "cell_type": "code",
   "execution_count": 13,
   "id": "d7bdabb1-8277-4c6f-be1f-66f4426ff2aa",
   "metadata": {},
   "outputs": [],
   "source": [
    "# As all numbers match perfectly, we will also match other variables, datatypes, etc.\n",
    "# to be able to merge datasets.\n",
    "\n",
    "df1[\"start\"] = df1[\"Datum\"] + \" \" + df1[\"Uhrzeit\"]\n",
    "df1 = df1.drop(['Datum', 'Uhrzeit'], axis=1)\n",
    "df1 = df1[['start'] + [col for col in df1.columns if col != 'start']]\n",
    "\n",
    "df1['start'] = pd.to_datetime(df1['start'], format='%d/%m/%Y %H:%M')\n",
    "df2['start'] = pd.to_datetime(df2['start'])\n",
    "\n",
    "df1 = df1.set_index('start')\n",
    "df1.index.name = 'Timestamp'\n",
    "\n",
    "df2 = df2.set_index('start')\n",
    "df2.index.name = 'Timestamp'"
   ]
  },
  {
   "cell_type": "code",
   "execution_count": 14,
   "id": "9869c609-2d5b-49e1-9dc5-669c2d939272",
   "metadata": {},
   "outputs": [
    {
     "data": {
      "text/html": [
       "<div>\n",
       "<style scoped>\n",
       "    .dataframe tbody tr th:only-of-type {\n",
       "        vertical-align: middle;\n",
       "    }\n",
       "\n",
       "    .dataframe tbody tr th {\n",
       "        vertical-align: top;\n",
       "    }\n",
       "\n",
       "    .dataframe thead th {\n",
       "        text-align: right;\n",
       "    }\n",
       "</style>\n",
       "<table border=\"1\" class=\"dataframe\">\n",
       "  <thead>\n",
       "    <tr style=\"text-align: right;\">\n",
       "      <th></th>\n",
       "      <th>Fahrradbruecke</th>\n",
       "      <th>Fahrradbruecke stadteinwaerts</th>\n",
       "      <th>Fahrradbruecke stadtauswaerts</th>\n",
       "      <th>Symbol Wetter</th>\n",
       "      <th>Temperatur (°C)</th>\n",
       "      <th>Gefühlte Temperatur (°C)</th>\n",
       "      <th>Regen (mm)</th>\n",
       "    </tr>\n",
       "    <tr>\n",
       "      <th>Timestamp</th>\n",
       "      <th></th>\n",
       "      <th></th>\n",
       "      <th></th>\n",
       "      <th></th>\n",
       "      <th></th>\n",
       "      <th></th>\n",
       "      <th></th>\n",
       "    </tr>\n",
       "  </thead>\n",
       "  <tbody>\n",
       "    <tr>\n",
       "      <th>2019-01-01 00:00:00</th>\n",
       "      <td>61.0</td>\n",
       "      <td>25.0</td>\n",
       "      <td>36.0</td>\n",
       "      <td>Leicht bewölkt</td>\n",
       "      <td>2</td>\n",
       "      <td>2</td>\n",
       "      <td>0</td>\n",
       "    </tr>\n",
       "    <tr>\n",
       "      <th>2019-01-01 01:00:00</th>\n",
       "      <td>100.0</td>\n",
       "      <td>49.0</td>\n",
       "      <td>51.0</td>\n",
       "      <td>Leicht bewölkt</td>\n",
       "      <td>2</td>\n",
       "      <td>2</td>\n",
       "      <td>0</td>\n",
       "    </tr>\n",
       "    <tr>\n",
       "      <th>2019-01-01 02:00:00</th>\n",
       "      <td>143.0</td>\n",
       "      <td>73.0</td>\n",
       "      <td>70.0</td>\n",
       "      <td>Leicht bewölkt</td>\n",
       "      <td>2</td>\n",
       "      <td>2</td>\n",
       "      <td>0</td>\n",
       "    </tr>\n",
       "    <tr>\n",
       "      <th>2019-01-01 03:00:00</th>\n",
       "      <td>98.0</td>\n",
       "      <td>59.0</td>\n",
       "      <td>39.0</td>\n",
       "      <td>Leicht bewölkt</td>\n",
       "      <td>3</td>\n",
       "      <td>3</td>\n",
       "      <td>0</td>\n",
       "    </tr>\n",
       "    <tr>\n",
       "      <th>2019-01-01 04:00:00</th>\n",
       "      <td>68.0</td>\n",
       "      <td>34.0</td>\n",
       "      <td>34.0</td>\n",
       "      <td>Leicht bewölkt</td>\n",
       "      <td>3</td>\n",
       "      <td>2</td>\n",
       "      <td>0</td>\n",
       "    </tr>\n",
       "  </tbody>\n",
       "</table>\n",
       "</div>"
      ],
      "text/plain": [
       "                     Fahrradbruecke  Fahrradbruecke stadteinwaerts  \\\n",
       "Timestamp                                                            \n",
       "2019-01-01 00:00:00            61.0                           25.0   \n",
       "2019-01-01 01:00:00           100.0                           49.0   \n",
       "2019-01-01 02:00:00           143.0                           73.0   \n",
       "2019-01-01 03:00:00            98.0                           59.0   \n",
       "2019-01-01 04:00:00            68.0                           34.0   \n",
       "\n",
       "                     Fahrradbruecke stadtauswaerts   Symbol Wetter  \\\n",
       "Timestamp                                                            \n",
       "2019-01-01 00:00:00                           36.0  Leicht bewölkt   \n",
       "2019-01-01 01:00:00                           51.0  Leicht bewölkt   \n",
       "2019-01-01 02:00:00                           70.0  Leicht bewölkt   \n",
       "2019-01-01 03:00:00                           39.0  Leicht bewölkt   \n",
       "2019-01-01 04:00:00                           34.0  Leicht bewölkt   \n",
       "\n",
       "                     Temperatur (°C)  Gefühlte Temperatur (°C)  Regen (mm)  \n",
       "Timestamp                                                                   \n",
       "2019-01-01 00:00:00                2                         2           0  \n",
       "2019-01-01 01:00:00                2                         2           0  \n",
       "2019-01-01 02:00:00                2                         2           0  \n",
       "2019-01-01 03:00:00                3                         3           0  \n",
       "2019-01-01 04:00:00                3                         2           0  "
      ]
     },
     "execution_count": 14,
     "metadata": {},
     "output_type": "execute_result"
    }
   ],
   "source": [
    "df1.head()"
   ]
  },
  {
   "cell_type": "code",
   "execution_count": 15,
   "id": "a9f1d6cd-d268-4141-83b9-f874b5ec295a",
   "metadata": {},
   "outputs": [
    {
     "data": {
      "text/html": [
       "<div>\n",
       "<style scoped>\n",
       "    .dataframe tbody tr th:only-of-type {\n",
       "        vertical-align: middle;\n",
       "    }\n",
       "\n",
       "    .dataframe tbody tr th {\n",
       "        vertical-align: top;\n",
       "    }\n",
       "\n",
       "    .dataframe thead th {\n",
       "        text-align: right;\n",
       "    }\n",
       "</style>\n",
       "<table border=\"1\" class=\"dataframe\">\n",
       "  <thead>\n",
       "    <tr style=\"text-align: right;\">\n",
       "      <th></th>\n",
       "      <th>countTo</th>\n",
       "      <th>countFrom</th>\n",
       "      <th>classification</th>\n",
       "    </tr>\n",
       "    <tr>\n",
       "      <th>Timestamp</th>\n",
       "      <th></th>\n",
       "      <th></th>\n",
       "      <th></th>\n",
       "    </tr>\n",
       "  </thead>\n",
       "  <tbody>\n",
       "    <tr>\n",
       "      <th>2019-01-01 00:00:00</th>\n",
       "      <td>3</td>\n",
       "      <td>0</td>\n",
       "      <td>Cold</td>\n",
       "    </tr>\n",
       "    <tr>\n",
       "      <th>2019-01-01 00:15:00</th>\n",
       "      <td>4</td>\n",
       "      <td>10</td>\n",
       "      <td>Light rain</td>\n",
       "    </tr>\n",
       "    <tr>\n",
       "      <th>2019-01-01 00:30:00</th>\n",
       "      <td>8</td>\n",
       "      <td>6</td>\n",
       "      <td>Cold</td>\n",
       "    </tr>\n",
       "    <tr>\n",
       "      <th>2019-01-01 00:45:00</th>\n",
       "      <td>10</td>\n",
       "      <td>20</td>\n",
       "      <td>Cold</td>\n",
       "    </tr>\n",
       "    <tr>\n",
       "      <th>2019-01-01 01:00:00</th>\n",
       "      <td>12</td>\n",
       "      <td>13</td>\n",
       "      <td>Cold</td>\n",
       "    </tr>\n",
       "  </tbody>\n",
       "</table>\n",
       "</div>"
      ],
      "text/plain": [
       "                     countTo  countFrom classification\n",
       "Timestamp                                             \n",
       "2019-01-01 00:00:00        3          0           Cold\n",
       "2019-01-01 00:15:00        4         10     Light rain\n",
       "2019-01-01 00:30:00        8          6           Cold\n",
       "2019-01-01 00:45:00       10         20           Cold\n",
       "2019-01-01 01:00:00       12         13           Cold"
      ]
     },
     "execution_count": 15,
     "metadata": {},
     "output_type": "execute_result"
    }
   ],
   "source": [
    "df2.head()"
   ]
  },
  {
   "cell_type": "code",
   "execution_count": 16,
   "id": "c4005e09-1c7a-448c-9582-722cd7e56169",
   "metadata": {},
   "outputs": [],
   "source": [
    "# Upsample the second dataset to 15-minute intervals\n",
    "df1_upsampled = df1.resample('15min').ffill()\n",
    "\n",
    "# Merge the two datasets based on the index (Time)\n",
    "merged_df = pd.merge(df2, df1_upsampled, left_index=True, right_index=True, how='left')\n",
    "\n",
    "# Drop unneccessary and already existed columns\n",
    "merged_df = merged_df.drop(['Fahrradbruecke', 'Fahrradbruecke stadteinwaerts',\n",
    "                           'Fahrradbruecke stadtauswaerts', 'Symbol Wetter'],axis=1)\n",
    "\n",
    "# Change names of variables\n",
    "name_mapping = {\n",
    "    'countTo': 'Count to',\n",
    "    'countFrom': 'Count from',\n",
    "    'classification': 'Weather type',\n",
    "    'Temperatur (°C)': 'Temperature (°C)',\n",
    "    'Gefühlte Temperatur (°C)': 'Perceived temperature (°C)',\n",
    "    'Regen (mm)': 'Rain (mm)'\n",
    "}\n",
    "\n",
    "merged_df = merged_df.rename(columns=name_mapping)\n",
    "df = merged_df"
   ]
  },
  {
   "cell_type": "code",
   "execution_count": 17,
   "id": "86edd0ff-7005-42b2-b832-1bd9476d78e7",
   "metadata": {},
   "outputs": [
    {
     "data": {
      "text/html": [
       "<div>\n",
       "<style scoped>\n",
       "    .dataframe tbody tr th:only-of-type {\n",
       "        vertical-align: middle;\n",
       "    }\n",
       "\n",
       "    .dataframe tbody tr th {\n",
       "        vertical-align: top;\n",
       "    }\n",
       "\n",
       "    .dataframe thead th {\n",
       "        text-align: right;\n",
       "    }\n",
       "</style>\n",
       "<table border=\"1\" class=\"dataframe\">\n",
       "  <thead>\n",
       "    <tr style=\"text-align: right;\">\n",
       "      <th></th>\n",
       "      <th>Count to</th>\n",
       "      <th>Count from</th>\n",
       "      <th>Weather type</th>\n",
       "      <th>Temperature (°C)</th>\n",
       "      <th>Perceived temperature (°C)</th>\n",
       "      <th>Rain (mm)</th>\n",
       "    </tr>\n",
       "    <tr>\n",
       "      <th>Timestamp</th>\n",
       "      <th></th>\n",
       "      <th></th>\n",
       "      <th></th>\n",
       "      <th></th>\n",
       "      <th></th>\n",
       "      <th></th>\n",
       "    </tr>\n",
       "  </thead>\n",
       "  <tbody>\n",
       "    <tr>\n",
       "      <th>2019-01-01 00:00:00</th>\n",
       "      <td>3</td>\n",
       "      <td>0</td>\n",
       "      <td>Cold</td>\n",
       "      <td>2</td>\n",
       "      <td>2</td>\n",
       "      <td>0</td>\n",
       "    </tr>\n",
       "    <tr>\n",
       "      <th>2019-01-01 00:15:00</th>\n",
       "      <td>4</td>\n",
       "      <td>10</td>\n",
       "      <td>Light rain</td>\n",
       "      <td>2</td>\n",
       "      <td>2</td>\n",
       "      <td>0</td>\n",
       "    </tr>\n",
       "    <tr>\n",
       "      <th>2019-01-01 00:30:00</th>\n",
       "      <td>8</td>\n",
       "      <td>6</td>\n",
       "      <td>Cold</td>\n",
       "      <td>2</td>\n",
       "      <td>2</td>\n",
       "      <td>0</td>\n",
       "    </tr>\n",
       "    <tr>\n",
       "      <th>2019-01-01 00:45:00</th>\n",
       "      <td>10</td>\n",
       "      <td>20</td>\n",
       "      <td>Cold</td>\n",
       "      <td>2</td>\n",
       "      <td>2</td>\n",
       "      <td>0</td>\n",
       "    </tr>\n",
       "    <tr>\n",
       "      <th>2019-01-01 01:00:00</th>\n",
       "      <td>12</td>\n",
       "      <td>13</td>\n",
       "      <td>Cold</td>\n",
       "      <td>2</td>\n",
       "      <td>2</td>\n",
       "      <td>0</td>\n",
       "    </tr>\n",
       "  </tbody>\n",
       "</table>\n",
       "</div>"
      ],
      "text/plain": [
       "                     Count to  Count from Weather type  Temperature (°C)  \\\n",
       "Timestamp                                                                  \n",
       "2019-01-01 00:00:00         3           0         Cold                 2   \n",
       "2019-01-01 00:15:00         4          10   Light rain                 2   \n",
       "2019-01-01 00:30:00         8           6         Cold                 2   \n",
       "2019-01-01 00:45:00        10          20         Cold                 2   \n",
       "2019-01-01 01:00:00        12          13         Cold                 2   \n",
       "\n",
       "                     Perceived temperature (°C)  Rain (mm)  \n",
       "Timestamp                                                   \n",
       "2019-01-01 00:00:00                           2          0  \n",
       "2019-01-01 00:15:00                           2          0  \n",
       "2019-01-01 00:30:00                           2          0  \n",
       "2019-01-01 00:45:00                           2          0  \n",
       "2019-01-01 01:00:00                           2          0  "
      ]
     },
     "execution_count": 17,
     "metadata": {},
     "output_type": "execute_result"
    }
   ],
   "source": [
    "# Last version of integrated and processed dataset\n",
    "\n",
    "df.head()"
   ]
  },
  {
   "cell_type": "markdown",
   "id": "27aca3ed-2c72-4484-87d5-3964254ef48a",
   "metadata": {
    "tags": []
   },
   "source": [
    "# Exploratory Data Analysis\n",
    "\n",
    "In the \"Exploratory Data Analysis\" part of the project, various analyses were conducted to gain insights into the dataset. The focus was on two main aspects: the impact of weather conditions on bicycle usage and the temporal patterns in bicycle usage.\n",
    "\n",
    "For the impact of weather conditions, the analysis examined how different weather types (sunny, rainy, cloudy, etc.) affected bicycle counts. Additionally, the relationship between temperature and bicycle usage was explored to identify any specific temperature ranges associated with higher bicycle usage. The impact of rainfall on bicycle counts was also assessed.\n",
    "\n",
    "Regarding temporal patterns, the analysis investigated seasonal and monthly variations in bicycle counts to understand any noticeable trends throughout the year. The analysis also compared bicycle usage between weekdays and weekends to identify any differences in usage patterns during these time periods. Furthermore, distinct peak hours or periods of high bicycle usage were identified for weekdays and weekends.\n",
    "\n",
    "Through data visualizations, statistical analysis, and exploratory techniques, these analyses aimed to uncover patterns, relationships, and trends within the dataset. The insights gained from this exploratory data analysis phase provide a foundation for further investigations and inform decision-making processes related to bicycle infrastructure, resource allocation, and marketing strategies."
   ]
  },
  {
   "cell_type": "markdown",
   "id": "7a6c3fd4-d424-43ce-876d-3d3fbb73941e",
   "metadata": {
    "tags": []
   },
   "source": [
    "## 1. Impact of Weather Conditions on Bicycle Usage:"
   ]
  },
  {
   "cell_type": "markdown",
   "id": "77e31700-2061-43c7-a6a1-f5aca9168a03",
   "metadata": {
    "tags": []
   },
   "source": [
    "### How do different weather types (sunny, rainy, cloudy, etc.) affect bicycle counts?"
   ]
  },
  {
   "cell_type": "code",
   "execution_count": 18,
   "id": "93e913d5-dc29-4d31-87ab-d1420b7e2274",
   "metadata": {},
   "outputs": [],
   "source": [
    "# Calculate total counted bicycles from both directions and prioritize it in columns\n",
    "df[\"Count total\"] = df[\"Count to\"] + df[\"Count from\"]\n",
    "df = df[['Count total'] + [col for col in df.columns if col != 'Count total']]"
   ]
  },
  {
   "cell_type": "code",
   "execution_count": 19,
   "id": "a2387611-5cbc-4877-a1f8-ca5b0d848091",
   "metadata": {},
   "outputs": [
    {
     "data": {
      "text/html": [
       "<div>\n",
       "<style scoped>\n",
       "    .dataframe tbody tr th:only-of-type {\n",
       "        vertical-align: middle;\n",
       "    }\n",
       "\n",
       "    .dataframe tbody tr th {\n",
       "        vertical-align: top;\n",
       "    }\n",
       "\n",
       "    .dataframe thead th {\n",
       "        text-align: right;\n",
       "    }\n",
       "</style>\n",
       "<table border=\"1\" class=\"dataframe\">\n",
       "  <thead>\n",
       "    <tr style=\"text-align: right;\">\n",
       "      <th></th>\n",
       "      <th>mean</th>\n",
       "      <th>median</th>\n",
       "      <th>min</th>\n",
       "      <th>max</th>\n",
       "      <th>std</th>\n",
       "    </tr>\n",
       "    <tr>\n",
       "      <th>Weather type</th>\n",
       "      <th></th>\n",
       "      <th></th>\n",
       "      <th></th>\n",
       "      <th></th>\n",
       "      <th></th>\n",
       "    </tr>\n",
       "  </thead>\n",
       "  <tbody>\n",
       "    <tr>\n",
       "      <th>Cold</th>\n",
       "      <td>74.167514</td>\n",
       "      <td>47.0</td>\n",
       "      <td>0</td>\n",
       "      <td>598</td>\n",
       "      <td>80.036989</td>\n",
       "    </tr>\n",
       "    <tr>\n",
       "      <th>Heavy rain</th>\n",
       "      <td>95.698413</td>\n",
       "      <td>68.0</td>\n",
       "      <td>0</td>\n",
       "      <td>531</td>\n",
       "      <td>93.768610</td>\n",
       "    </tr>\n",
       "    <tr>\n",
       "      <th>Heavy summer rain</th>\n",
       "      <td>120.500000</td>\n",
       "      <td>120.5</td>\n",
       "      <td>0</td>\n",
       "      <td>241</td>\n",
       "      <td>170.412734</td>\n",
       "    </tr>\n",
       "    <tr>\n",
       "      <th>Hot</th>\n",
       "      <td>194.019157</td>\n",
       "      <td>208.0</td>\n",
       "      <td>0</td>\n",
       "      <td>463</td>\n",
       "      <td>127.155279</td>\n",
       "    </tr>\n",
       "    <tr>\n",
       "      <th>Humid</th>\n",
       "      <td>137.796380</td>\n",
       "      <td>140.0</td>\n",
       "      <td>0</td>\n",
       "      <td>469</td>\n",
       "      <td>102.877726</td>\n",
       "    </tr>\n",
       "    <tr>\n",
       "      <th>Light rain</th>\n",
       "      <td>82.075810</td>\n",
       "      <td>56.0</td>\n",
       "      <td>0</td>\n",
       "      <td>549</td>\n",
       "      <td>82.113440</td>\n",
       "    </tr>\n",
       "    <tr>\n",
       "      <th>Light snow</th>\n",
       "      <td>53.341463</td>\n",
       "      <td>40.0</td>\n",
       "      <td>0</td>\n",
       "      <td>197</td>\n",
       "      <td>46.931382</td>\n",
       "    </tr>\n",
       "    <tr>\n",
       "      <th>Light summer rain</th>\n",
       "      <td>223.898438</td>\n",
       "      <td>225.0</td>\n",
       "      <td>0</td>\n",
       "      <td>420</td>\n",
       "      <td>81.293174</td>\n",
       "    </tr>\n",
       "    <tr>\n",
       "      <th>Moderate</th>\n",
       "      <td>104.856433</td>\n",
       "      <td>85.0</td>\n",
       "      <td>0</td>\n",
       "      <td>634</td>\n",
       "      <td>93.786068</td>\n",
       "    </tr>\n",
       "    <tr>\n",
       "      <th>Rainstorm</th>\n",
       "      <td>39.733333</td>\n",
       "      <td>28.0</td>\n",
       "      <td>3</td>\n",
       "      <td>183</td>\n",
       "      <td>40.254531</td>\n",
       "    </tr>\n",
       "    <tr>\n",
       "      <th>Stormy</th>\n",
       "      <td>70.103659</td>\n",
       "      <td>57.0</td>\n",
       "      <td>0</td>\n",
       "      <td>303</td>\n",
       "      <td>57.996575</td>\n",
       "    </tr>\n",
       "    <tr>\n",
       "      <th>Warm</th>\n",
       "      <td>196.271761</td>\n",
       "      <td>200.0</td>\n",
       "      <td>0</td>\n",
       "      <td>564</td>\n",
       "      <td>98.661005</td>\n",
       "    </tr>\n",
       "    <tr>\n",
       "      <th>Windy</th>\n",
       "      <td>79.703340</td>\n",
       "      <td>65.0</td>\n",
       "      <td>0</td>\n",
       "      <td>425</td>\n",
       "      <td>74.104734</td>\n",
       "    </tr>\n",
       "  </tbody>\n",
       "</table>\n",
       "</div>"
      ],
      "text/plain": [
       "                         mean  median  min  max         std\n",
       "Weather type                                               \n",
       "Cold                74.167514    47.0    0  598   80.036989\n",
       "Heavy rain          95.698413    68.0    0  531   93.768610\n",
       "Heavy summer rain  120.500000   120.5    0  241  170.412734\n",
       "Hot                194.019157   208.0    0  463  127.155279\n",
       "Humid              137.796380   140.0    0  469  102.877726\n",
       "Light rain          82.075810    56.0    0  549   82.113440\n",
       "Light snow          53.341463    40.0    0  197   46.931382\n",
       "Light summer rain  223.898438   225.0    0  420   81.293174\n",
       "Moderate           104.856433    85.0    0  634   93.786068\n",
       "Rainstorm           39.733333    28.0    3  183   40.254531\n",
       "Stormy              70.103659    57.0    0  303   57.996575\n",
       "Warm               196.271761   200.0    0  564   98.661005\n",
       "Windy               79.703340    65.0    0  425   74.104734"
      ]
     },
     "execution_count": 19,
     "metadata": {},
     "output_type": "execute_result"
    }
   ],
   "source": [
    "# Calculate descriptive statistics grouped by weather type\n",
    "statistics = df.groupby('Weather type')['Count total'].agg(['mean', 'median', 'min', 'max', 'std'])\n",
    "statistics"
   ]
  },
  {
   "cell_type": "code",
   "execution_count": 20,
   "id": "d674e64b-a7d3-46fb-9a85-81b36ae257c1",
   "metadata": {},
   "outputs": [
    {
     "data": {
      "image/png": "[encoded data removed]",
      "text/plain": [
       "<Figure size 1440x720 with 1 Axes>"
      ]
     },
     "metadata": {
      "needs_background": "light"
     },
     "output_type": "display_data"
    }
   ],
   "source": [
    "# Bar plot to compare bicycle counts for different weather types\n",
    "plt.figure(figsize=(20, 10))\n",
    "plt.bar(statistics[\"median\"].index, statistics[\"median\"].values)\n",
    "plt.xlabel('Weather type')\n",
    "plt.ylabel('Count total')\n",
    "plt.title('Bicycle Counts by Weather Type')\n",
    "plt.show()"
   ]
  },
  {
   "cell_type": "code",
   "execution_count": 21,
   "id": "c438d61b-5b09-4853-8bff-c2f7fdd940b4",
   "metadata": {},
   "outputs": [
    {
     "data": {
      "image/png": "[encoded data removed]",
      "text/plain": [
       "<Figure size 720x432 with 1 Axes>"
      ]
     },
     "metadata": {
      "needs_background": "light"
     },
     "output_type": "display_data"
    }
   ],
   "source": [
    "# Box plot to compare the distribution of bicycle counts for different weather types\n",
    "df.boxplot('Count total', by='Weather type', figsize=(10, 6))\n",
    "\n",
    "# Adjust the rotation of the x-axis labels\n",
    "plt.xticks(rotation=45)\n",
    "\n",
    "plt.xlabel('Weather Type')\n",
    "plt.ylabel('Bicycle Count')\n",
    "plt.title('Distribution of Bicycle Counts by Weather Type')\n",
    "plt.suptitle('')  # Remove the automatically generated title\n",
    "plt.show()"
   ]
  },
  {
   "cell_type": "markdown",
   "id": "e365a888-4e05-4633-934c-96f30df6405e",
   "metadata": {},
   "source": [
    "Through the analysis of \"How do different weather types (sunny, rainy, cloudy, etc.) affect bicycle counts?\", several key findings were identified. **Descriptive statistics and data visualizations** were utilized to explore the relationship between weather types and bicycle usage.\n",
    "\n",
    "The analysis revealed that the weather types with the **highest bicycle usage** were identified as **light summer rain, hot, and warm**. These weather conditions seemed to be associated with increased bicycle usage. On the other hand, weather types such as **rainstorm, cold, and light snow** were found to have the least impact on bicycle counts, **indicating lower usage** during these conditions."
   ]
  },
  {
   "cell_type": "markdown",
   "id": "7411d0aa-8c3f-4adb-b45b-d1c943e2c194",
   "metadata": {
    "tags": []
   },
   "source": [
    "### Is there a specific temperature range that correlates with higher bicycle usage?"
   ]
  },
  {
   "cell_type": "code",
   "execution_count": 22,
   "id": "3216fb2a-01e1-4b7d-addc-d08f76435d4b",
   "metadata": {},
   "outputs": [],
   "source": [
    "# Sort the dataset by temperature and calculate how many bicycles were\n",
    "# used during those temperatures\n",
    "\n",
    "dfSorted = df.sort_values('Temperature (°C)')\n",
    "\n",
    "dictTemp = {}\n",
    "for index, row in dfSorted.iterrows():\n",
    "    myKey = row[\"Temperature (°C)\"]\n",
    "    myValue = row[\"Count total\"]\n",
    "    myCount = 1\n",
    "    \n",
    "    if myKey in dictTemp:\n",
    "        dictTemp[myKey][0] += myValue\n",
    "        dictTemp[myKey][1] += myCount\n",
    "        \n",
    "    else:\n",
    "        dictTemp[myKey] = [myValue, myCount]"
   ]
  },
  {
   "cell_type": "code",
   "execution_count": 23,
   "id": "b556ccfb-d03a-45ec-b4c5-99eb99965b15",
   "metadata": {},
   "outputs": [],
   "source": [
    "# Calculate the average usage for each temperature\n",
    "avg = []\n",
    "for values in list(dictTemp.values()):\n",
    "    avg.append(values[0]/values[1])"
   ]
  },
  {
   "cell_type": "code",
   "execution_count": 24,
   "id": "30b8eebd-226f-4798-a31c-18a0de11eaf7",
   "metadata": {},
   "outputs": [
    {
     "data": {
      "image/png": "[encoded data removed]",
      "text/plain": [
       "<Figure size 432x288 with 1 Axes>"
      ]
     },
     "metadata": {
      "needs_background": "light"
     },
     "output_type": "display_data"
    }
   ],
   "source": [
    "# Line plot\n",
    "plt.plot(list(dictTemp.keys()), avg)\n",
    "plt.xlabel('Temperature')\n",
    "plt.ylabel('Average Bicycle Count')\n",
    "plt.title('Relationship between Temperature and Average Bicycle Counts')\n",
    "plt.show()"
   ]
  },
  {
   "cell_type": "code",
   "execution_count": 25,
   "id": "18f8c556-16c9-465f-8f42-dd8f2356f9e0",
   "metadata": {},
   "outputs": [
    {
     "data": {
      "image/png": "[encoded data removed]",
      "text/plain": [
       "<Figure size 432x288 with 1 Axes>"
      ]
     },
     "metadata": {
      "needs_background": "light"
     },
     "output_type": "display_data"
    }
   ],
   "source": [
    "'''\n",
    "Line plot shows that there is an increase of bicycle usage\n",
    "from around 32 degrees but that does not make any sense.\n",
    "Scatter plot helps us to see if it is just an outlier \n",
    "and since we do not have any intermediate temperature, \n",
    "it could have been just plotting the whole line for that.\n",
    "'''\n",
    "\n",
    "# Scatter plot\n",
    "plt.scatter(list(dictTemp.keys()), avg)\n",
    "plt.xlabel('Temperature')\n",
    "plt.ylabel('Average Bicycle Count')\n",
    "plt.title('Relationship between Temperature and Average Bicycle Counts')\n",
    "plt.show()"
   ]
  },
  {
   "cell_type": "markdown",
   "id": "e2b99b3a-64f4-4dec-9e81-dc356374615f",
   "metadata": {},
   "source": [
    "Through the analysis of \"Is there a specific temperature range that correlates with higher bicycle usage?\", several insights were gained regarding the relationship between temperature and bicycle usage. The analysis revealed the following findings:\n",
    "\n",
    "1. **Bicycle usage generally increases with higher temperatures**. As the temperature rises, there tends to be a corresponding increase in the number of bicycles being used.\n",
    "\n",
    "2. There is a range of temperatures (around **25 to 30 degrees**) where the **bicycle usage remains relatively stable**. Within this temperature range, there is no significant variation in the number of bicycles being used.\n",
    "\n",
    "3. **Beyond 30 degrees**, the **bicycle usage starts to decrease**. Very hot weather seems to have a negative impact on bicycle usage, potentially due to discomfort or other factors.\n",
    "\n",
    "4. Notably, **at 34 degrees**, there is a **high number of bicycle usage**. This observation might be an outlier or have a specific explanation. I think the high bicycle usage at 34 degrees might not be solely attributed to the temperature itself but could be influenced by other factors such as peak usage hours coinciding with that temperature. For example, if the peak hour for bicycle usage is around 16:00 during the summer, more people may choose to ride bicycles regardless of the specific temperature.\n",
    "\n",
    "These findings provide valuable insights into the relationship between temperature and bicycle usage patterns, highlighting the impact of temperature on the number of bicycles being used and identifying temperature ranges where usage remains consistent or decreases."
   ]
  },
  {
   "cell_type": "markdown",
   "id": "8b2fe006-1b8f-4c94-9d82-53199899371b",
   "metadata": {
    "tags": []
   },
   "source": [
    "### Does rainfall significantly impact bicycle counts?"
   ]
  },
  {
   "cell_type": "code",
   "execution_count": 26,
   "id": "666dfbae-e278-45a8-9090-074bc109d2c9",
   "metadata": {},
   "outputs": [],
   "source": [
    "# Sort dataframe by rain precipitation and create a dictionary\n",
    "# to store number of bicycle counts for each rain values\n",
    "\n",
    "dfSorted = df.sort_values('Rain (mm)')\n",
    "\n",
    "dictRain = {}\n",
    "for index, row in dfSorted.iterrows():\n",
    "    myKey = row[\"Rain (mm)\"]\n",
    "    myValue = row[\"Count total\"]\n",
    "    myCount = 1\n",
    "    \n",
    "    if myKey in dictRain:\n",
    "        dictRain[myKey][0] += myValue\n",
    "        dictRain[myKey][1] += myCount\n",
    "        \n",
    "    else:\n",
    "        dictRain[myKey] = [myValue, myCount]"
   ]
  },
  {
   "cell_type": "code",
   "execution_count": 27,
   "id": "781f1e34-42f2-479a-a9e1-01addfad4849",
   "metadata": {},
   "outputs": [],
   "source": [
    "# Calculate the average number of bicycle counts for each rain values\n",
    "avg = []\n",
    "for key in dictRain.keys():\n",
    "    avg.append([key, dictRain[key][0]/dictRain[key][1]])"
   ]
  },
  {
   "cell_type": "code",
   "execution_count": 28,
   "id": "2d546acb-a0d5-47d0-a9c8-1a6f5dc6df37",
   "metadata": {},
   "outputs": [
    {
     "data": {
      "image/png": "[encoded data removed]",
      "text/plain": [
       "<Figure size 432x288 with 1 Axes>"
      ]
     },
     "metadata": {
      "needs_background": "light"
     },
     "output_type": "display_data"
    }
   ],
   "source": [
    "# Separate rainValues and countValues from the data\n",
    "rainValues = [point[0] for point in avg]\n",
    "countValues = [point[1] for point in avg]\n",
    "\n",
    "# Create a scatter plot\n",
    "plt.scatter(rainValues, countValues)\n",
    "plt.xlabel('Rain')\n",
    "plt.ylabel('Average Bicycle Counts')\n",
    "plt.title('Relationship between Rain and Average Bicycle Counts')\n",
    "plt.show()"
   ]
  },
  {
   "cell_type": "markdown",
   "id": "7edafe0e-d206-4731-bac7-2afecfe682e9",
   "metadata": {},
   "source": [
    "Through the analysis of \"Does rainfall significantly impact bicycle counts?\", it was determined that rainfall does have a significant effect on bicycle usage. The findings were derived from a scatter plot visualization and indicate the following:\n",
    "\n",
    "1. As the amount of **rain precipitation increases**, the average number of **bicycle usages notably decreases**.\n",
    "\n",
    "2. When there is **no rain**, approximately **100 bicycles** pass every 15 minutes, indicating a higher level of bicycle usage under dry weather conditions.\n",
    "\n",
    "3. With **1mm of rainfall**, the number of bicycles decreases to around **60**, suggesting a significant reduction in bicycle usage compared to dry weather.\n",
    "\n",
    "4. As the rain precipitation increases to **2mm**, the number further declines to approximately **40 bicycles**, indicating a substantial decrease in usage.\n",
    "\n",
    "5. When the rain reaches **3mm**, the number of bicycles decreases even further to **10**, highlighting a significant impact on bicycle usage during heavy rainfall.\n",
    "\n",
    "These findings illustrate the clear correlation between rainfall and bicycle counts, indicating that higher levels of rain precipitation lead to a significant decrease in bicycle usage. "
   ]
  },
  {
   "cell_type": "markdown",
   "id": "ee6a8ba9-ec4b-4a67-a7d2-9f402a090414",
   "metadata": {
    "tags": []
   },
   "source": [
    "## 2. Temporal Patterns in Bicycle Usage:"
   ]
  },
  {
   "cell_type": "markdown",
   "id": "e64ef04e-1868-41f6-8801-ee71417150bb",
   "metadata": {
    "tags": []
   },
   "source": [
    "### Are there any seasonal or monthly variations in bicycle counts?"
   ]
  },
  {
   "cell_type": "code",
   "execution_count": 29,
   "id": "e5bf5e8e-1ad3-4fc7-aa31-57d104a66979",
   "metadata": {},
   "outputs": [
    {
     "data": {
      "text/html": [
       "<div>\n",
       "<style scoped>\n",
       "    .dataframe tbody tr th:only-of-type {\n",
       "        vertical-align: middle;\n",
       "    }\n",
       "\n",
       "    .dataframe tbody tr th {\n",
       "        vertical-align: top;\n",
       "    }\n",
       "\n",
       "    .dataframe thead th {\n",
       "        text-align: right;\n",
       "    }\n",
       "</style>\n",
       "<table border=\"1\" class=\"dataframe\">\n",
       "  <thead>\n",
       "    <tr style=\"text-align: right;\">\n",
       "      <th></th>\n",
       "      <th>Bicycle Counts</th>\n",
       "    </tr>\n",
       "    <tr>\n",
       "      <th>Month</th>\n",
       "      <th></th>\n",
       "    </tr>\n",
       "  </thead>\n",
       "  <tbody>\n",
       "    <tr>\n",
       "      <th>Jan 2019</th>\n",
       "      <td>5576</td>\n",
       "    </tr>\n",
       "    <tr>\n",
       "      <th>Feb 2019</th>\n",
       "      <td>6396</td>\n",
       "    </tr>\n",
       "    <tr>\n",
       "      <th>Mar 2019</th>\n",
       "      <td>6524</td>\n",
       "    </tr>\n",
       "    <tr>\n",
       "      <th>Apr 2019</th>\n",
       "      <td>8234</td>\n",
       "    </tr>\n",
       "    <tr>\n",
       "      <th>May 2019</th>\n",
       "      <td>9174</td>\n",
       "    </tr>\n",
       "    <tr>\n",
       "      <th>Jun 2019</th>\n",
       "      <td>10250</td>\n",
       "    </tr>\n",
       "    <tr>\n",
       "      <th>Jul 2019</th>\n",
       "      <td>13356</td>\n",
       "    </tr>\n",
       "    <tr>\n",
       "      <th>Aug 2019</th>\n",
       "      <td>12010</td>\n",
       "    </tr>\n",
       "    <tr>\n",
       "      <th>Sep 2019</th>\n",
       "      <td>12202</td>\n",
       "    </tr>\n",
       "    <tr>\n",
       "      <th>Oct 2019</th>\n",
       "      <td>11538</td>\n",
       "    </tr>\n",
       "    <tr>\n",
       "      <th>Nov 2019</th>\n",
       "      <td>10372</td>\n",
       "    </tr>\n",
       "    <tr>\n",
       "      <th>Dec 2019</th>\n",
       "      <td>7708</td>\n",
       "    </tr>\n",
       "  </tbody>\n",
       "</table>\n",
       "</div>"
      ],
      "text/plain": [
       "          Bicycle Counts\n",
       "Month                   \n",
       "Jan 2019            5576\n",
       "Feb 2019            6396\n",
       "Mar 2019            6524\n",
       "Apr 2019            8234\n",
       "May 2019            9174\n",
       "Jun 2019           10250\n",
       "Jul 2019           13356\n",
       "Aug 2019           12010\n",
       "Sep 2019           12202\n",
       "Oct 2019           11538\n",
       "Nov 2019           10372\n",
       "Dec 2019            7708"
      ]
     },
     "execution_count": 29,
     "metadata": {},
     "output_type": "execute_result"
    }
   ],
   "source": [
    "# Resample the data to monthly frequency and sum the bicycle counts\n",
    "monthly_counts = df['Count total'].resample('M').sum()\n",
    "\n",
    "# Calculate the number of days in each month\n",
    "num_days = monthly_counts.index.days_in_month\n",
    "\n",
    "# Calculate the average bicycle counts per day\n",
    "average_counts_per_day = monthly_counts / num_days\n",
    "average_counts_per_day = average_counts_per_day.astype(int)\n",
    "\n",
    "# Convert the Series to a DataFrame with 'Month' as a column\n",
    "df_heatmap = average_counts_per_day.to_frame(name='Bicycle Counts')\n",
    "\n",
    "# Extract the 'Month' from the index and add it as a column\n",
    "df_heatmap['Month'] = df_heatmap.index.strftime('%b %Y')\n",
    "\n",
    "df_heatmap = df_heatmap.set_index(\"Month\")\n",
    "df_heatmap"
   ]
  },
  {
   "cell_type": "code",
   "execution_count": 30,
   "id": "20ce9db0-5f03-4195-8d21-07471ea99bd7",
   "metadata": {},
   "outputs": [
    {
     "data": {
      "image/png": "[encoded data removed]",
      "text/plain": [
       "<Figure size 720x432 with 2 Axes>"
      ]
     },
     "metadata": {
      "needs_background": "light"
     },
     "output_type": "display_data"
    }
   ],
   "source": [
    "# Create the heatmap plot\n",
    "plt.figure(figsize=(10, 6))\n",
    "sns.heatmap(df_heatmap, cmap='YlGnBu', annot=True, fmt=\".1f\", linewidths=0.5)\n",
    "plt.title('Monthly Average Bicycle Counts Heatmap')\n",
    "plt.xlabel('')\n",
    "plt.ylabel('')\n",
    "\n",
    "plt.show()"
   ]
  },
  {
   "cell_type": "code",
   "execution_count": 31,
   "id": "9b4ab34b-8c39-4538-8ba7-2de292176a55",
   "metadata": {},
   "outputs": [
    {
     "data": {
      "text/plain": [
       "<Figure size 720x432 with 0 Axes>"
      ]
     },
     "metadata": {},
     "output_type": "display_data"
    },
    {
     "data": {
      "image/png": "[encoded data removed]",
      "text/plain": [
       "<Figure size 432x288 with 1 Axes>"
      ]
     },
     "metadata": {
      "needs_background": "light"
     },
     "output_type": "display_data"
    }
   ],
   "source": [
    "# Create the bar plot\n",
    "plt.figure(figsize=(10, 6))\n",
    "df_heatmap.plot(kind='bar', legend=None)\n",
    "plt.title('Monthly Average Bicycle Counts')\n",
    "plt.xlabel('Months')\n",
    "plt.ylabel('Bicycle Counts')\n",
    "\n",
    "plt.xticks(rotation=45)  # Rotate x-axis labels for better readability\n",
    "plt.tight_layout()  # Adjust layout for better spacing\n",
    "\n",
    "plt.show()"
   ]
  },
  {
   "cell_type": "code",
   "execution_count": 32,
   "id": "10307cb9-9807-40b9-a080-aa9df3c3f5e8",
   "metadata": {},
   "outputs": [
    {
     "data": {
      "text/plain": [
       "<Figure size 720x432 with 0 Axes>"
      ]
     },
     "metadata": {},
     "output_type": "display_data"
    },
    {
     "data": {
      "image/png": "[encoded data removed]",
      "text/plain": [
       "<Figure size 432x288 with 1 Axes>"
      ]
     },
     "metadata": {
      "needs_background": "light"
     },
     "output_type": "display_data"
    }
   ],
   "source": [
    "# Define the seasons\n",
    "seasons = {\n",
    "    'Winter': ['Dec 2019', 'Jan 2019', 'Feb 2019'],\n",
    "    'Spring': ['Mar 2019', 'Apr 2019', 'May 2019'],\n",
    "    'Summer': ['Jun 2019', 'Jul 2019', 'Aug 2019'],\n",
    "    'Autumn': ['Sep 2019', 'Oct 2019', 'Nov 2019']\n",
    "}\n",
    "\n",
    "# Create a new DataFrame with seasons\n",
    "season_df = pd.DataFrame()\n",
    "for season, months in seasons.items():\n",
    "    season_counts = df_heatmap.loc[months].sum()\n",
    "    season_df[season] = season_counts\n",
    "\n",
    "# Create the bar plot for seasons\n",
    "plt.figure(figsize=(10, 6))\n",
    "season_df.plot(kind='bar')\n",
    "plt.title('Seasonal Average Bicycle Counts')\n",
    "plt.xlabel('')\n",
    "plt.ylabel('')\n",
    "\n",
    "plt.xticks(rotation=0)  # Rotate x-axis labels if needed\n",
    "plt.tight_layout()  # Adjust layout for better spacing\n",
    "\n",
    "plt.show()"
   ]
  },
  {
   "cell_type": "markdown",
   "id": "126836f2-08e3-4f5e-931e-1546552e063c",
   "metadata": {},
   "source": [
    "Through the analysis of \"Are there any seasonal or monthly variations in bicycle counts?\", several observations were made regarding the seasonal and monthly patterns of bicycle usage. The findings can be summarized as follows:\n",
    "\n",
    "1. Monthly variations: The analysis revealed that the months of **July, September, and August** exhibit the **highest** levels of bicycle usage. This trend suggests that there is a peak in bicycle usage during the summer months. The usage gradually increases from the beginning of the year, likely due to improving weather conditions. However, after a period of stability in high bicycle usage from August to October, the number of bicycle counts starts to decline towards the end of the year.\n",
    "\n",
    "2. Seasonal variations: When examining the seasonal patterns, it was observed that the number of bicycle counts follows a decreasing trend from summer to winter. Specifically, the highest bicycle usage is observed during **summer, followed by autumn, spring, and winter**, in that order."
   ]
  },
  {
   "cell_type": "markdown",
   "id": "86f0e0f4-766c-4c3f-a8b2-26d5b94f9337",
   "metadata": {
    "tags": []
   },
   "source": [
    "### How does bicycle usage vary between weekdays and weekends?"
   ]
  },
  {
   "cell_type": "code",
   "execution_count": 33,
   "id": "c39066e7-0591-4aa1-a991-c638fef10da1",
   "metadata": {},
   "outputs": [
    {
     "data": {
      "text/html": [
       "<div>\n",
       "<style scoped>\n",
       "    .dataframe tbody tr th:only-of-type {\n",
       "        vertical-align: middle;\n",
       "    }\n",
       "\n",
       "    .dataframe tbody tr th {\n",
       "        vertical-align: top;\n",
       "    }\n",
       "\n",
       "    .dataframe thead th {\n",
       "        text-align: right;\n",
       "    }\n",
       "</style>\n",
       "<table border=\"1\" class=\"dataframe\">\n",
       "  <thead>\n",
       "    <tr style=\"text-align: right;\">\n",
       "      <th></th>\n",
       "      <th>count</th>\n",
       "      <th>mean</th>\n",
       "      <th>std</th>\n",
       "      <th>min</th>\n",
       "      <th>25%</th>\n",
       "      <th>50%</th>\n",
       "      <th>75%</th>\n",
       "      <th>max</th>\n",
       "    </tr>\n",
       "    <tr>\n",
       "      <th>Day_Type</th>\n",
       "      <th></th>\n",
       "      <th></th>\n",
       "      <th></th>\n",
       "      <th></th>\n",
       "      <th></th>\n",
       "      <th></th>\n",
       "      <th></th>\n",
       "      <th></th>\n",
       "    </tr>\n",
       "  </thead>\n",
       "  <tbody>\n",
       "    <tr>\n",
       "      <th>Weekday</th>\n",
       "      <td>24961.0</td>\n",
       "      <td>112.041104</td>\n",
       "      <td>101.462745</td>\n",
       "      <td>0.0</td>\n",
       "      <td>19.0</td>\n",
       "      <td>92.0</td>\n",
       "      <td>179.0</td>\n",
       "      <td>634.0</td>\n",
       "    </tr>\n",
       "    <tr>\n",
       "      <th>Weekend</th>\n",
       "      <td>9980.0</td>\n",
       "      <td>65.812725</td>\n",
       "      <td>64.091654</td>\n",
       "      <td>0.0</td>\n",
       "      <td>15.0</td>\n",
       "      <td>43.0</td>\n",
       "      <td>99.0</td>\n",
       "      <td>359.0</td>\n",
       "    </tr>\n",
       "  </tbody>\n",
       "</table>\n",
       "</div>"
      ],
      "text/plain": [
       "            count        mean         std  min   25%   50%    75%    max\n",
       "Day_Type                                                                \n",
       "Weekday   24961.0  112.041104  101.462745  0.0  19.0  92.0  179.0  634.0\n",
       "Weekend    9980.0   65.812725   64.091654  0.0  15.0  43.0   99.0  359.0"
      ]
     },
     "execution_count": 33,
     "metadata": {},
     "output_type": "execute_result"
    }
   ],
   "source": [
    "# Extract the weekday from the timestamp indexes\n",
    "df['Weekday'] = df.index.dayofweek  # Monday is 0 and Sunday is 6\n",
    "\n",
    "# Categorize weekdays as 'Weekday' and weekends as 'Weekend'\n",
    "df['Day_Type'] = df['Weekday'].apply(lambda x: 'Weekday' if x < 5 else 'Weekend')\n",
    "\n",
    "# Calculate descriptive statistics for bicycle counts by weekday type\n",
    "stats = df.groupby('Day_Type')['Count total'].describe()\n",
    "stats"
   ]
  },
  {
   "cell_type": "code",
   "execution_count": 34,
   "id": "a034f9f6-77a1-4408-b2b0-641560915576",
   "metadata": {},
   "outputs": [
    {
     "data": {
      "text/html": [
       "<div>\n",
       "<style scoped>\n",
       "    .dataframe tbody tr th:only-of-type {\n",
       "        vertical-align: middle;\n",
       "    }\n",
       "\n",
       "    .dataframe tbody tr th {\n",
       "        vertical-align: top;\n",
       "    }\n",
       "\n",
       "    .dataframe thead th {\n",
       "        text-align: right;\n",
       "    }\n",
       "</style>\n",
       "<table border=\"1\" class=\"dataframe\">\n",
       "  <thead>\n",
       "    <tr style=\"text-align: right;\">\n",
       "      <th></th>\n",
       "      <th>mean</th>\n",
       "      <th>std</th>\n",
       "      <th>min</th>\n",
       "      <th>25%</th>\n",
       "      <th>50%</th>\n",
       "      <th>75%</th>\n",
       "      <th>max</th>\n",
       "    </tr>\n",
       "  </thead>\n",
       "  <tbody>\n",
       "    <tr>\n",
       "      <th>Monday</th>\n",
       "      <td>105.502003</td>\n",
       "      <td>99.473523</td>\n",
       "      <td>0.0</td>\n",
       "      <td>13.0</td>\n",
       "      <td>85.0</td>\n",
       "      <td>171.0</td>\n",
       "      <td>562.0</td>\n",
       "    </tr>\n",
       "    <tr>\n",
       "      <th>Tuesday</th>\n",
       "      <td>118.040857</td>\n",
       "      <td>108.078964</td>\n",
       "      <td>0.0</td>\n",
       "      <td>16.0</td>\n",
       "      <td>97.0</td>\n",
       "      <td>191.0</td>\n",
       "      <td>595.0</td>\n",
       "    </tr>\n",
       "    <tr>\n",
       "      <th>Wednesday</th>\n",
       "      <td>119.005208</td>\n",
       "      <td>105.092921</td>\n",
       "      <td>0.0</td>\n",
       "      <td>20.0</td>\n",
       "      <td>103.0</td>\n",
       "      <td>185.0</td>\n",
       "      <td>634.0</td>\n",
       "    </tr>\n",
       "    <tr>\n",
       "      <th>Thursday</th>\n",
       "      <td>112.602764</td>\n",
       "      <td>101.130967</td>\n",
       "      <td>0.0</td>\n",
       "      <td>22.0</td>\n",
       "      <td>91.0</td>\n",
       "      <td>178.0</td>\n",
       "      <td>598.0</td>\n",
       "    </tr>\n",
       "    <tr>\n",
       "      <th>Friday</th>\n",
       "      <td>105.053486</td>\n",
       "      <td>91.961606</td>\n",
       "      <td>0.0</td>\n",
       "      <td>21.0</td>\n",
       "      <td>86.0</td>\n",
       "      <td>168.0</td>\n",
       "      <td>564.0</td>\n",
       "    </tr>\n",
       "    <tr>\n",
       "      <th>Saturday</th>\n",
       "      <td>77.769231</td>\n",
       "      <td>69.684250</td>\n",
       "      <td>0.0</td>\n",
       "      <td>18.0</td>\n",
       "      <td>59.0</td>\n",
       "      <td>122.0</td>\n",
       "      <td>359.0</td>\n",
       "    </tr>\n",
       "    <tr>\n",
       "      <th>Sunday</th>\n",
       "      <td>53.846632</td>\n",
       "      <td>55.439082</td>\n",
       "      <td>0.0</td>\n",
       "      <td>13.0</td>\n",
       "      <td>34.0</td>\n",
       "      <td>77.0</td>\n",
       "      <td>300.0</td>\n",
       "    </tr>\n",
       "  </tbody>\n",
       "</table>\n",
       "</div>"
      ],
      "text/plain": [
       "                 mean         std  min   25%    50%    75%    max\n",
       "Monday     105.502003   99.473523  0.0  13.0   85.0  171.0  562.0\n",
       "Tuesday    118.040857  108.078964  0.0  16.0   97.0  191.0  595.0\n",
       "Wednesday  119.005208  105.092921  0.0  20.0  103.0  185.0  634.0\n",
       "Thursday   112.602764  101.130967  0.0  22.0   91.0  178.0  598.0\n",
       "Friday     105.053486   91.961606  0.0  21.0   86.0  168.0  564.0\n",
       "Saturday    77.769231   69.684250  0.0  18.0   59.0  122.0  359.0\n",
       "Sunday      53.846632   55.439082  0.0  13.0   34.0   77.0  300.0"
      ]
     },
     "execution_count": 34,
     "metadata": {},
     "output_type": "execute_result"
    }
   ],
   "source": [
    "# Calculate descriptive statistics for bicycle counts by weekday type\n",
    "stats = df.groupby('Weekday')['Count total'].describe()\n",
    "\n",
    "# Customize index labels to represent days of the week\n",
    "stats = stats.drop('count', axis=1)\n",
    "day_labels = ['Monday', 'Tuesday', 'Wednesday', 'Thursday', 'Friday', 'Saturday', 'Sunday']\n",
    "stats.index = day_labels\n",
    "\n",
    "stats"
   ]
  },
  {
   "cell_type": "code",
   "execution_count": 35,
   "id": "f818cf23-a04e-4f7d-897c-82538864b298",
   "metadata": {},
   "outputs": [
    {
     "data": {
      "image/png": "[encoded data removed]",
      "text/plain": [
       "<Figure size 432x288 with 1 Axes>"
      ]
     },
     "metadata": {
      "needs_background": "light"
     },
     "output_type": "display_data"
    }
   ],
   "source": [
    "# Create a bar plot from the stats DataFrame\n",
    "ax = stats[['mean', '50%']].plot(kind='bar', color=['blue', 'green'], alpha=0.7)\n",
    "\n",
    "# Set the title and labels for the plot\n",
    "plt.title('Bicycle Counts by Weekday')\n",
    "plt.xlabel('Weekday')\n",
    "plt.ylabel('Bicycle Counts')\n",
    "\n",
    "# Set the x-axis tick labels\n",
    "day_labels = ['Mon', 'Tue', 'Wed', 'Thu', 'Fri', 'Sat', 'Sun']\n",
    "plt.xticks(range(7), day_labels)\n",
    "\n",
    "# Add a legend\n",
    "ax.legend(['Mean', 'Median'], loc='upper right')\n",
    "\n",
    "# Display the plot\n",
    "plt.show()"
   ]
  },
  {
   "cell_type": "markdown",
   "id": "03375a99-2095-4773-bb8a-2effd058d718",
   "metadata": {},
   "source": [
    "Through the analysis of \"How does bicycle usage vary between weekdays and weekends?\", several key findings were identified:\n",
    "\n",
    "1. Weekday vs. Weekend Usage: The analysis revealed that bicycle usage during **weekdays** is **significantly higher** compared to **weekends**. On average, the number of bicycles used during weekdays is approximately twice as much as during weekends. This suggests that bicycles are more frequently utilized for transportation purposes on weekdays, potentially for commuting or work-related activities.\n",
    "\n",
    "2. Daily Usage Patterns: By analyzing the daily usage patterns, it was found that **Wednesday, Tuesday, and Thursday** exhibit the **highest levels** of bicycle usage. These days are followed by Monday and Friday, which still show relatively high usage but slightly lower than the mid-week peak. **Saturday and Sunday have the lowest bicycle usage**, indicating a decrease in demand over the weekend.\n",
    "\n",
    "3. Median and Mean Analysis: The statistics and bar plot of median and mean values further support the findings. **Wednesday, Tuesday, and Thursday** consistently show the **highest median and mean bicycle** usage, indicating a consistent pattern of high usage throughout the weekdays. Monday and Friday exhibit slightly lower values, while **Saturday and Sunday have the lowest median and mean values**, reflecting reduced bicycle usage on weekends."
   ]
  },
  {
   "cell_type": "markdown",
   "id": "4c71e59d-c654-4c62-b685-776f96b3cb12",
   "metadata": {
    "tags": []
   },
   "source": [
    "### Are there any distinct peak hours or periods of high bicycle usage throughout the weekdays and weekends?"
   ]
  },
  {
   "cell_type": "code",
   "execution_count": 36,
   "id": "135aee12-34e1-42b1-829f-33062efe6742",
   "metadata": {},
   "outputs": [],
   "source": [
    "# Extract daily hours from the timestamp indexes\n",
    "df['Hour'] = df.index.hour\n",
    "grouped = df.groupby(['Day_Type', 'Hour'])['Count total'].mean()\n",
    "grouped.name = \"Average Bicycle Count\"\n",
    "groupedWeekday = grouped.Weekday\n",
    "groupedWeekend = grouped.Weekend"
   ]
  },
  {
   "cell_type": "code",
   "execution_count": 37,
   "id": "2f43f535-6639-4b8b-9f9d-79e8d578e5dc",
   "metadata": {},
   "outputs": [
    {
     "data": {
      "image/png": "[encoded data removed]",
      "text/plain": [
       "<Figure size 864x432 with 1 Axes>"
      ]
     },
     "metadata": {
      "needs_background": "light"
     },
     "output_type": "display_data"
    }
   ],
   "source": [
    "# Plot the line with markers\n",
    "line_plot_weekday = groupedWeekday.plot(kind='line', figsize=(12, 6), marker='o')\n",
    "\n",
    "# Get the indices of the minimum and maximum values\n",
    "min_idx = [groupedWeekday.idxmin()]\n",
    "max_idx = [groupedWeekday.idxmax()]\n",
    "\n",
    "# Add markers for the minimum and maximum points with larger size\n",
    "line_plot_weekday.plot(min_idx, groupedWeekday.loc[min_idx], marker='o', markersize=15, color='red')\n",
    "line_plot_weekday.plot(max_idx, groupedWeekday.loc[max_idx], marker='o', markersize=15, color='green')\n",
    "\n",
    "# Annotate the minimum and maximum values near the points\n",
    "for idx, min_val in zip(min_idx, groupedWeekday.loc[min_idx]):\n",
    "    line_plot_weekday.annotate(f'{min_val:.2f}', xy=(idx, min_val), xytext=(-10, 15),\n",
    "                       textcoords='offset points', color='red', fontsize = 15)\n",
    "\n",
    "for idx, max_val in zip(max_idx, groupedWeekday.loc[max_idx]):\n",
    "    line_plot_weekday.annotate(f'{max_val:.2f}', xy=(idx, max_val), xytext=(-60, -4),\n",
    "                       textcoords='offset points', color='green', fontsize = 15)\n",
    "\n",
    "plt.title('Hourly Average Bicycle Counts at the weekdays')\n",
    "plt.xlabel('Hour')\n",
    "plt.ylabel('Average Bicycle Counts')\n",
    "plt.legend(title='Weekday')\n",
    "\n",
    "plt.xticks(range(24))\n",
    "\n",
    "plt.show()"
   ]
  },
  {
   "cell_type": "code",
   "execution_count": 38,
   "id": "5422f811-3b28-457a-92a0-d26dc47ed9fb",
   "metadata": {},
   "outputs": [
    {
     "data": {
      "image/png": "[encoded data removed]",
      "text/plain": [
       "<Figure size 864x432 with 1 Axes>"
      ]
     },
     "metadata": {
      "needs_background": "light"
     },
     "output_type": "display_data"
    }
   ],
   "source": [
    "# Plot the line with markers\n",
    "line_plot_weekend = groupedWeekend.plot(kind='line', figsize=(12, 6), marker='o')\n",
    "\n",
    "# Get the indices of the minimum and maximum values\n",
    "min_idx = [groupedWeekend.idxmin()]\n",
    "max_idx = [groupedWeekend.idxmax()]\n",
    "\n",
    "# Add markers for the minimum and maximum points with larger size\n",
    "line_plot_weekend.plot(min_idx, groupedWeekend.loc[min_idx], marker='o', markersize=15, color='red')\n",
    "line_plot_weekend.plot(max_idx, groupedWeekend.loc[max_idx], marker='o', markersize=15, color='green')\n",
    "\n",
    "# Annotate the minimum and maximum values near the points\n",
    "for idx, min_val in zip(min_idx, groupedWeekend.loc[min_idx]):\n",
    "    line_plot_weekend.annotate(f'{min_val:.2f}', xy=(idx, min_val), xytext=(-10, 15),\n",
    "                       textcoords='offset points', color='red', fontsize = 15)\n",
    "\n",
    "for idx, max_val in zip(max_idx, groupedWeekend.loc[max_idx]):\n",
    "    line_plot_weekend.annotate(f'{max_val:.2f}', xy=(idx, max_val), xytext=(-5, -25),\n",
    "                       textcoords='offset points', color='green', fontsize = 15)\n",
    "\n",
    "plt.title('Hourly Average Bicycle Counts at the weekends')\n",
    "plt.xlabel('Hour')\n",
    "plt.ylabel('Average Bicycle Counts')\n",
    "plt.legend(title='Weekend')\n",
    "\n",
    "plt.xticks(range(24))\n",
    "\n",
    "plt.show()"
   ]
  },
  {
   "cell_type": "markdown",
   "id": "597db98b-48aa-4410-8d25-b724b8125216",
   "metadata": {},
   "source": [
    "The analysis of \"Are there any distinct peak hours or periods of high bicycle usage throughout the weekdays and weekends?\" yielded the following findings\n",
    "\n",
    "**Weekdays Analysis**:\n",
    "\n",
    "1. Peak Hours: The analysis of hourly average bicycle counts on weekdays revealed distinct peak hours of high bicycle usage. The **minimum** average bicycle usage occurred **at 03:00** in the morning, with a value of **2.57**. The **maximum** average bicycle usage was observed **at 17:00**, with a value of **230.80**.\n",
    "\n",
    "2. Morning Commute: The usage **gradually increased from 06:00 to 08:00**, indicating that people likely use bicycles for commuting to their jobs and schools during this time.\n",
    "\n",
    "3. Lunchtime and Midday Usage: There was a **slight decrease** in bicycle usage **from 08:00 to 11:00**, followed by an **increase from 11:00 to 13:00**. This suggests the presence of lunchtime riders or individuals using bicycles for leisure or errands during the day.\n",
    "\n",
    "4. Evening Peak: Bicycle usage continued to **fluctuate and gradually increased** until reaching the maximum value at **17:00**. This peak hour may be attributed to people returning home from work or engaging in recreational activities with their bicycles.\n",
    "\n",
    "5. Nighttime Decline: **After 17:00, bicycle usage decreased continuously** throughout the night, gradually reaching its lowest point at 03:00 the next morning.\n",
    "\n",
    "\n",
    "**Weekends Analysis**:\n",
    "\n",
    "1. Peak Hours: On weekends, the analysis showed a different pattern compared to weekdays. The **minimum** average bicycle usage occurred **at 04:00** in the morning, with a value of **5.21**. The usage **gradually increased** until reaching the maximum point at **14:00**, where bicycle usage was at its highest with the value **129.95**.\n",
    "\n",
    "2. Stable and Smooth Usage: Unlike weekdays, the plot depicting **hourly average bicycle counts on weekends exhibited a smoother and more stable pattern**. The usage remained relatively high between 14:00 and 17:00 before declining continuously throughout the night.\n",
    "\n",
    "\n",
    "These findings provide insights into the distinct patterns of peak hours and periods of high bicycle usage on both weekdays and weekends. Understanding these patterns can be valuable for urban planning, optimizing infrastructure, and implementing targeted interventions to support and encourage bicycle usage during specific hours of the day."
   ]
  },
  {
   "cell_type": "markdown",
   "id": "d9c07cb8",
   "metadata": {},
   "source": [
    "# Conclusion\n",
    "This project explored the patterns of bicycle usage Konstanz using two data sources. Analyzing weather conditions, temperature, rainfall, and temporal factors, we identified key insights. Bicycle usage was influenced by weather types, with light summer rain and warm weather leading to higher usage. Higher temperatures correlated with increased usage, except for a plateau between 25-30 degrees Celsius. Rainfall significantly decreased bicycle counts, while peak usage occurred in July, August, and September. Weekdays exhibited higher usage compared to weekends, with Wednesday, Tuesday, and Thursday showing the highest usage. Peak bicycle usage hours occurred during weekdays, with significant spikes during morning and evening commute hours. Weekends exhibited a more gradual increase in usage throughout the day. \n",
    "\n",
    "**In conclusion**, this project shed light on the intricate patterns of bicycle usage, providing valuable insights for urban planners, transportation authorities, and policymakers. The findings emphasized the importance of weather conditions, temperature ranges, rainfall, and temporal factors in understanding and predicting bicycle usage. By harnessing this knowledge, cities can develop targeted strategies to promote cycling, enhance infrastructure, and improve the overall urban mobility experience. Ultimately, this endeavor contributes to creating more sustainable, efficient, and cyclist-friendly urban environments."
   ]
  },
  {
   "cell_type": "markdown",
   "id": "a48131b5",
   "metadata": {},
   "source": []
  }
 ],
 "metadata": {
  "kernelspec": {
   "display_name": "Python 3 (ipykernel)",
   "language": "python",
   "name": "python3"
  },
  "language_info": {
   "codemirror_mode": {
    "name": "ipython",
    "version": 3
   },
   "file_extension": ".py",
   "mimetype": "text/x-python",
   "name": "python",
   "nbconvert_exporter": "python",
   "pygments_lexer": "ipython3",
   "version": "3.10.5"
  }
 },
 "nbformat": 4,
 "nbformat_minor": 5
}
